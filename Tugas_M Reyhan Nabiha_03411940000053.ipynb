{
 "cells": [
  {
   "cell_type": "code",
   "execution_count": 7,
   "metadata": {},
   "outputs": [
    {
     "name": "stdout",
     "output_type": "stream",
     "text": [
      "Selamat Datang Di REYSMOTORSHOP, We'll Service you BETTER\n",
      "Program Self Service Pada Bengkel Motor\n",
      " \n",
      "Merk Motor Andayamaha\n",
      "Jenis Motor Anda mx king\n",
      "Keluhan Motor Andagas berat\n",
      "Pilihlah Paket Service sesuai CC motor Anda\n",
      " \n",
      " \n",
      "Masukkan CC Motor Anda, TULISKAN CCNYA SAJA , Contoh:600 150\n",
      "Yamalube Silver,Yamalube super Matic,Yamalube Sport Motor,Oil Motul 5100,Motul 3100,\n",
      "injector cleaner,check semua komponen\n",
      "cocok untuk motor harian\n",
      " \n",
      "pilihan oli anda, ketiklah yamalube sport\n",
      " \n",
      " \n",
      "Setelah anda print paket service anda, datang ke loket untuk antri dan motor akan dikerjakan oleh mekanik kami\n"
     ]
    }
   ],
   "source": [
    "print(\"Selamat Datang Di REYSMOTORSHOP, We'll Service you BETTER\")\n",
    "print(\"Program Self Service Pada Bengkel Motor\")\n",
    "print(\" \")\n",
    "g= input(\"Merk Motor Anda\")\n",
    "h= input(\"Jenis Motor Anda\")\n",
    "t= input(\"Keluhan Motor Anda\")\n",
    "print(\"Pilihlah Paket Service sesuai CC motor Anda\")\n",
    "print(\" \")\n",
    "print(\" \")\n",
    "x = input(\"Masukkan CC Motor Anda, TULISKAN CCNYA SAJA , Contoh:600\")\n",
    "x= int(x)\n",
    "if 201>x>100 :\n",
    "    print(\"Yamalube Silver,Yamalube super Matic,Yamalube Sport Motor,Oil Motul 5100,Motul 3100,\")\n",
    "    print(\"injector cleaner,check semua komponen\")\n",
    "    print(\"cocok untuk motor harian\")\n",
    "elif 601>x>202:\n",
    "    print(\"Yamalube Rs4GP, Motul 7100, \")\n",
    "    print(\"injector cleaner,cek semua komponen\")\n",
    "    print(\"cocok untuk moge dengan kubikasi sedang\")\n",
    "elif 1002>x>602:\n",
    "    print(\"Motul 300v,nippon 10w-40\")\n",
    "    print(\"injector cleaner\")\n",
    "    print(\"cocok dengan kubikasi besar dan dapat mengoptimalkan performa mesin\")\n",
    "else:\n",
    "    print(\"Duron Xl, Kendall Super\")\n",
    "    print(\"injector cleaner , throttle body clean up,cek semua komponen\")\n",
    "    print(\"cocok untuk motor dengan cc besar dengan kekntalan oli yang bisa menahan panas\")\n",
    "print(\" \")\n",
    "y = input(\"pilihan oli anda, ketiklah\")\n",
    "print(\" \")\n",
    "print(\" \")\n",
    "print(\"Setelah anda print paket service anda, datang ke loket untuk antri dan motor akan dikerjakan oleh mekanik kami\")\n"
   ]
  },
  {
   "cell_type": "code",
   "execution_count": null,
   "metadata": {},
   "outputs": [],
   "source": []
  },
  {
   "cell_type": "code",
   "execution_count": null,
   "metadata": {},
   "outputs": [],
   "source": []
  }
 ],
 "metadata": {
  "kernelspec": {
   "display_name": "Python 3",
   "language": "python",
   "name": "python3"
  },
  "language_info": {
   "codemirror_mode": {
    "name": "ipython",
    "version": 3
   },
   "file_extension": ".py",
   "mimetype": "text/x-python",
   "name": "python",
   "nbconvert_exporter": "python",
   "pygments_lexer": "ipython3",
   "version": "3.7.4"
  }
 },
 "nbformat": 4,
 "nbformat_minor": 2
}
